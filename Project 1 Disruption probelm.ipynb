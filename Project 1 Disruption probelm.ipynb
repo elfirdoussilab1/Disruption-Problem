{
 "cells": [
  {
   "cell_type": "markdown",
   "metadata": {},
   "source": [
    "# Project 1: Disruption problem\n",
    "# Students: Khair Mohamed - El Firdoussi Aymane - Msik Ahmed Amine\n"
   ]
  },
  {
   "cell_type": "code",
   "execution_count": 126,
   "metadata": {},
   "outputs": [],
   "source": [
    "import numpy as np\n",
    "import matplotlib.pyplot as plt \n",
    "\n",
    "# All imports go here"
   ]
  },
  {
   "cell_type": "markdown",
   "metadata": {},
   "source": [
    "# Introduction"
   ]
  },
  {
   "cell_type": "markdown",
   "metadata": {},
   "source": [
    "In this paper, we will introduce stochastic processes in continuous time.  The aim of this study is to introduce a few properties about Poisson processes and to provide the basics to deal with such processes in the case where there is a change of intensity. This a very frequent situation. For example, take a soccer game. Scoring goals during a match soccer can very well approximately characterized by a Poisson process. Imagine that there is no public at the begining and that the fans' arrival follows an exponential law. Our final goal is to predict this point of time by observing the number of goals in the game and detect the moment where the intensity changed."
   ]
  },
  {
   "attachments": {
    "Capture%20d%E2%80%99e%CC%81cran%202023-05-25%20a%CC%80%2012.31.45.png": {
     "image/png": "[encoded data removed]"
    }
   },
   "cell_type": "markdown",
   "metadata": {},
   "source": [
    "![Capture%20d%E2%80%99e%CC%81cran%202023-05-25%20a%CC%80%2012.31.45.png](attachment:Capture%20d%E2%80%99e%CC%81cran%202023-05-25%20a%CC%80%2012.31.45.png)"
   ]
  },
  {
   "cell_type": "markdown",
   "metadata": {},
   "source": [
    "# Preparatory work and Assumptions"
   ]
  },
  {
   "cell_type": "markdown",
   "metadata": {},
   "source": [
    "Imagine that we have events we describe by a point process 𝑁. At the beginning of the observation, events occur according to a Poisson process of intensity $\\lambda_0$ until a time $\\tau$, and then switch to a new regime which is still a Poisson process but with intensity $\\lambda_1$. We suppose that we know $\\lambda_0$ and $\\lambda_1$ but not $\\tau$. We assume also that $\\tau$ follows an exponential distribution of parameter $\\sigma$, i.e $\\tau \\sim \\mathcal{E}(\\sigma)$. We want to estimate $\\tau$ by the observation of a single trajectory."
   ]
  },
  {
   "cell_type": "markdown",
   "metadata": {},
   "source": [
    "----\n",
    "# Question 1:"
   ]
  },
  {
   "cell_type": "markdown",
   "metadata": {},
   "source": [
    "We define $Z(t) = \\mathbb{1}_{ \\{\\tau \\leq t \\} }$, and $$ \\hat{Z}(t) = \\mathbb{E}[Z(t) | \\mathcal{F}_t] $$\n",
    "Where $ \\mathcal{F}_t = \\sigma(N(s), s \\leq t) $\n",
    "\n",
    "We assume that:\n",
    "\n",
    "$$ \\hat{Z}(t) = \\int_0^t h(s)(1 - \\hat{Z}(s)) ds + \\int_0^t \\frac{(\\lambda_1 - \\lambda_0) \\hat{Z}(s)(1 - \\hat{Z}(s))}{ \\hat{\\lambda}(s)} \\left( dN(s) -  \\hat{\\lambda}(s)ds \\right) $$\n",
    "\n",
    "\n",
    "Using the definition of $dN$ (integration with respect to a point process), we can rewrite the above equation as :\n",
    "\n",
    "$$ \\hat{Z}(t) = \\int_0^t h(s)(1 - \\hat{Z}(s)) ds - \\int_0^t (\\lambda_1 - \\lambda_1)\\hat{Z}(s) (1 - \\hat{Z}(s)) ds + \\sum_{T_n \\leq t} \\frac{(\\lambda_1 - \\lambda_0) \\hat{Z}(T_n^-) (1 - \\hat{Z}(T_n^-))}{\\lambda_0 + (\\lambda_1 - \\lambda_0)\\hat{Z}(T_n^-)}$$\n",
    "Hence, between two jumps of N $[T_n, T_{n + 1}]$, $\\hat{Z}(t)$ is obtained by the equation:\n",
    "\n",
    "$$ \\hat{Z}(t) = \\hat{Z}(T_n) + \\int_{T_n}^t (h(s) - (\\lambda_1 - \\lambda_0) \\hat{Z}(s)) (1 - \\hat{Z}(s)) ds $$ \n",
    "\n",
    "And in the n-th jump moment $T_n$, there is a discontinuity in $\\hat{Z}(t)$ of amplitude:\n",
    "\n",
    "$$ \\hat{Z}(T_n) - \\hat{Z}(T_n^-) = \\frac{(\\lambda_1 - \\lambda_0)\\hat{Z}(T_n^-)(1 - \\hat{Z}(T_n^-))}{\\lambda_0 + (\\lambda_1 - \\lambda_0) \\hat{Z}(T_n^-)} $$\n",
    "\n",
    "----"
   ]
  },
  {
   "cell_type": "markdown",
   "metadata": {},
   "source": [
    "# Question 2:"
   ]
  },
  {
   "cell_type": "markdown",
   "metadata": {},
   "source": [
    "Given a discrete process $(\\xi_n)_{n \\in \\mathbb{N}}$ where $\\forall n \\in \\mathbb{N}$ $\\xi_n \\sim \\mathcal{E}(\\lambda)$, we can generate a Poisson process of intensity $\\lambda$ by defining the arrival times:\n",
    "\n",
    "\\begin{equation}\n",
    "\\begin{array}\n",
    "& T_0 = 0 \\\\\n",
    "T_{n + 1} = T_n + \\xi_n\n",
    "\\end{array}\n",
    "\\end{equation}\n",
    "\n",
    "We define the number of arrivals before time $t \\in \\mathbb{R}$ by:\n",
    "\n",
    "$$ N(t) = \\sum_{n \\in \\mathbb{N}^+} \\mathbb{1}_{ \\{T_n \\leq t\\} }$$\n",
    "\n",
    "We will generate poisson processes in this study thanks to this definition. "
   ]
  },
  {
   "cell_type": "markdown",
   "metadata": {},
   "source": [
    "In this study, we recall that we consider two independent Poisson processes with respective intensities $\\lambda_0$ and $\\lambda_1$. Initially, we only observe the first one, and after a random instant $\\tau$, independent of the two processes, we observe the second one. This process can be generated using the follwing function called **poisson_process**, which takes in parameters:\n",
    "- lam0 : which denotes $\\lambda_0$\n",
    "- lam1 : $\\lambda_1$\n",
    "- tau : the time $\\tau$"
   ]
  },
  {
   "cell_type": "code",
   "execution_count": 169,
   "metadata": {},
   "outputs": [],
   "source": [
    "def poisson_process(lam0, lam1, tau):\n",
    "    # T is the jump times process\n",
    "    T = [0]\n",
    "    xi = np.random.exponential(scale = 1 / lam0)\n",
    "    t = xi\n",
    "    while t < tau:\n",
    "        T.append(t)                                          \n",
    "        t += np.random.exponential(scale = 1 / lam0)\n",
    "    \n",
    "    t = tau\n",
    "    n = len(T)\n",
    "    for i in range(n):\n",
    "        t += np.random.exponential(scale = 1 / lam1)\n",
    "        T.append(t)\n",
    "    \n",
    "    return T"
   ]
  },
  {
   "cell_type": "code",
   "execution_count": 172,
   "metadata": {},
   "outputs": [],
   "source": [
    "# Defining the function N which counts the number of arrivals up to time t\n",
    "def num_arrivals(T, t):\n",
    "    return np.sum(np.array(T) <= t)\n"
   ]
  },
  {
   "cell_type": "markdown",
   "metadata": {},
   "source": [
    "### Plotting a sample point process"
   ]
  },
  {
   "cell_type": "markdown",
   "metadata": {},
   "source": [
    "Hence, we are now able to generate a point process modelling our scoring goals problem. One important hypothesis in our model is that the duration of the game is infinite. Not very realistic but in the other case we would have had to take a troncated exponential law for the arrival of the fans and our project aims to study exponential law. Then, lets suppose that in general the intensity of the game is greater when the public is present (with more goals because of the energy of the fans). We can relate the intensity of the game with the instensity of the two poisson processes. For exemple if the game is two times more intense, we use the following visualization."
   ]
  },
  {
   "cell_type": "code",
   "execution_count": 175,
   "metadata": {},
   "outputs": [
    {
     "data": {
      "image/png": "[encoded data removed]",
      "text/plain": [
       "<Figure size 432x288 with 1 Axes>"
      ]
     },
     "metadata": {
      "needs_background": "light"
     },
     "output_type": "display_data"
    }
   ],
   "source": [
    "# Parameters\n",
    "lam0 = 1\n",
    "lam1 = 2\n",
    "n = 20\n",
    "tau_ = 10\n",
    "\n",
    "T_ = poisson_process(lam0, lam1, tau_)\n",
    "# Plotting\n",
    "plt.scatter(T_, np.ones(len(T_)))\n",
    "plt.show()"
   ]
  },
  {
   "cell_type": "markdown",
   "metadata": {},
   "source": [
    "For a game of 15 min here where we can observe that the fans came around minute 8 because if the change of frequency in the scoring of goals. This past interpretation is purely hypothetical and our aim is that with point processes like that where we don't know the time of arrival but we do know what law it follows (exponential $\\tau$) we could predict very accurately this arrival."
   ]
  },
  {
   "cell_type": "markdown",
   "metadata": {},
   "source": [
    "## Plotting a sample path of the Poisson process N"
   ]
  },
  {
   "cell_type": "code",
   "execution_count": 193,
   "metadata": {},
   "outputs": [
    {
     "data": {
      "image/png": "[encoded data removed]",
      "text/plain": [
       "<Figure size 432x288 with 1 Axes>"
      ]
     },
     "metadata": {
      "needs_background": "light"
     },
     "output_type": "display_data"
    }
   ],
   "source": [
    "# Parameters\n",
    "lam0 = 1\n",
    "lam1 = 2\n",
    "n = 20\n",
    "tau_ = 10\n",
    "\n",
    "# Plotting\n",
    "T_ = poisson_process(lam0, lam1, tau_)\n",
    "t = np.linspace(0, 20, len(T_))\n",
    "N = []\n",
    "for x in t:\n",
    "    N.append(num_arrivals(T_, x))\n",
    "plt.plot(t, N)\n",
    "plt.grid()\n",
    "plt.show()"
   ]
  },
  {
   "cell_type": "markdown",
   "metadata": {},
   "source": [
    "## Simulating a sample trajectory of Z"
   ]
  },
  {
   "cell_type": "markdown",
   "metadata": {},
   "source": [
    "### Rectangles' method: Newton Cotes of rank 1\n",
    "\n",
    "If we partition each interval [$T_n, T_{n + 1}$] into $p$ sub-intervals with equal size, then we obtain points $(t_i)_{i = 0}^p$ where $t_{n,0} = T_n$, $t_{n,1} = T_n + \\epsilon$, $t_{n,2} = T_n + 2 \\epsilon$,...., $t_{n,k} = T_n + k \\epsilon$ until $t_{n,p - 1} = T_{n + 1} - \\epsilon$, where $ \\epsilon = \\frac{T_{n + 1} - T_n}{p + 1}$\n",
    "\n",
    "Then using this, we approximate the integral in the expression of Question 1 with the rectangles method, and we obtain: \n",
    "$ \\forall k \\in \\{0, ..., p - 1 \\} $\n",
    "\n",
    "$$ \\hat{Z}(t_{n, k+1}) =  \\hat{Z}(T_n) + \\epsilon \\sum_{l = 0}^{k} h(t_{n, l}) (1 - (\\lambda_1 - \\lambda_0) \\hat{Z}(t_{n, l}))(1 - \\hat{Z}(t_{n, l})) $$\n",
    "\n",
    "By developping the calculus, we find the induction relation:\n",
    "\n",
    "$$ \\hat{Z}(t_{n, k+1}) = \\hat{Z}(t_{n, k}) + \\epsilon h(t_{n, k})(1 - (\\lambda_1 - \\lambda_0) \\hat{Z}(t_{n, k}))(1 - \\hat{Z}(t_{n, k})) $$\n"
   ]
  },
  {
   "cell_type": "code",
   "execution_count": 194,
   "metadata": {},
   "outputs": [],
   "source": [
    "def generate_Z_hat(T, p, sigma, lam0, lam1):\n",
    "    n = len(T)\n",
    "    \n",
    "    # Z will contain the table of our process\n",
    "    Z = np.zeros((n, p))\n",
    "    \n",
    "    # U will contain the table of instants that we calculated Z^ in\n",
    "    U = np.zeros((n, p))\n",
    "    \n",
    "    # Initialization: row 0\n",
    "    eps =(T[1] - T[0]) / (p + 1)\n",
    "    u = T[0]\n",
    "    U[0, 0] = u\n",
    "    for j in range(p - 1):\n",
    "        Z[0, j + 1] = Z[0, j] + eps * (sigma - (lam1 - lam0) * Z[0, j]) * (1 - Z[0, j])\n",
    "        u += eps\n",
    "        U[0, j + 1] = u\n",
    "        \n",
    "    # Values for t in [T_i, T_{i + 1}[\n",
    "    for i in range(1, n - 1):\n",
    "        eps = (T[i + 1] - T[i]) / (p + 1)\n",
    "        u = T[i]\n",
    "        U[i, 0] = u\n",
    "        # computing the initial value with the transition expression (jump size)\n",
    "        Z[i, 0] = Z[i - 1, p - 1] + ((lam1 - lam0) * Z[i - 1, p - 1] * (1 - Z[i - 1, p - 1])) / (lam0 + (lam1 - lam0) * Z[i - 1, p - 1])\n",
    "        \n",
    "        # computing Z[i, j]\n",
    "        for j in range(p - 1):\n",
    "            Z[i, j + 1] = Z[i, j] + eps * (sigma - (lam1 - lam0) * Z[i, j]) * (1 - Z[i, j])\n",
    "            u += eps\n",
    "            U[i , j + 1] = u\n",
    "            \n",
    "    # Last row: beyong the last arrival time, we will just compute the value\n",
    "    u = T[n - 1] + 1 / lam1\n",
    "    eps = 1 / (lam1 * (p + 1))\n",
    "    for j in range(p):\n",
    "        U[n - 1 , j] = u\n",
    "        Z[n - 1, j] = Z[n - 2, p - 1] + ((lam1 - lam0) * Z[n - 2, p - 1] * (1 - Z[n - 2, p - 1])) / (lam0 + (lam1 - lam0) * Z[n - 2, p - 1])\n",
    "        u += eps   \n",
    "    return Z, U"
   ]
  },
  {
   "cell_type": "markdown",
   "metadata": {},
   "source": [
    "## Plotting results"
   ]
  },
  {
   "cell_type": "code",
   "execution_count": 196,
   "metadata": {},
   "outputs": [],
   "source": [
    "# Parameters\n",
    "p = 200\n",
    "lam0 = 100\n",
    "lam1 = 99\n",
    "sigma = 0.1\n",
    "tau = np.random.exponential(scale = 1 / sigma)\n",
    "\n",
    "# Simulating T and Z\n",
    "T = poisson_process(lam0, lam1, tau)\n",
    "Z, U = generate_Z_hat(T, p, sigma, lam0, lam1)\n"
   ]
  },
  {
   "cell_type": "code",
   "execution_count": 197,
   "metadata": {},
   "outputs": [
    {
     "data": {
      "image/png": "[encoded data removed]",
      "text/plain": [
       "<Figure size 1080x504 with 1 Axes>"
      ]
     },
     "metadata": {
      "needs_background": "light"
     },
     "output_type": "display_data"
    }
   ],
   "source": [
    "plt.figure(figsize = (15, 7))\n",
    "Z_flat = Z.reshape(1, -1)[0]\n",
    "U_flat = U.reshape(1, -1)[0]\n",
    "z = Z_flat[::100]\n",
    "u = U_flat[::100]\n",
    "plt.plot(U_flat, Z_flat)\n",
    "plt.show()"
   ]
  },
  {
   "cell_type": "markdown",
   "metadata": {},
   "source": [
    "# Question 3:\n",
    "\n",
    "## Determining the value of $\\tau$ experimentally:\n",
    "We know that "
   ]
  },
  {
   "cell_type": "code",
   "execution_count": null,
   "metadata": {},
   "outputs": [],
   "source": [
    "def closest(t, T):\n",
    "    if t >= T[-1]:\n",
    "        return len(T) - 1\n",
    "    \n",
    "    idx = 0\n",
    "    while T[idx + 1] < t:\n",
    "        idx += 1\n",
    "    return idx   "
   ]
  },
  {
   "cell_type": "code",
   "execution_count": null,
   "metadata": {},
   "outputs": [],
   "source": [
    "# Estimation of tau\n",
    "def estimation(Z, U, tau, precision=0.99):\n",
    "    # We will return the value in U for which the proba is close to 1\n",
    "    n = closest(precision, Z)\n",
    "    return U[n]"
   ]
  },
  {
   "cell_type": "code",
   "execution_count": 184,
   "metadata": {},
   "outputs": [
    {
     "name": "stdout",
     "output_type": "stream",
     "text": [
      "6.019236375970847\n"
     ]
    }
   ],
   "source": [
    "print(tau)"
   ]
  },
  {
   "cell_type": "code",
   "execution_count": 185,
   "metadata": {},
   "outputs": [
    {
     "name": "stdout",
     "output_type": "stream",
     "text": [
      "16.45303093601147\n"
     ]
    }
   ],
   "source": [
    "print(estimation(Z_flat, U_flat, tau))"
   ]
  },
  {
   "cell_type": "code",
   "execution_count": 186,
   "metadata": {},
   "outputs": [
    {
     "data": {
      "text/plain": [
       "0.4407540220950496"
      ]
     },
     "execution_count": 186,
     "metadata": {},
     "output_type": "execute_result"
    }
   ],
   "source": [
    "Z_hat(tau , Z, T, 3)"
   ]
  },
  {
   "cell_type": "markdown",
   "metadata": {},
   "source": [
    "# Question 3:\n"
   ]
  },
  {
   "cell_type": "code",
   "execution_count": 187,
   "metadata": {},
   "outputs": [
    {
     "data": {
      "image/png": "[encoded data removed]",
      "text/plain": [
       "<Figure size 432x288 with 1 Axes>"
      ]
     },
     "metadata": {
      "needs_background": "light"
     },
     "output_type": "display_data"
    }
   ],
   "source": [
    "def f(t,T,lam1,lam2):                        \n",
    "    Nt=poisson(T, t)\n",
    "    N=len(T)\n",
    "    return (1-(lam1*t)/Nt)**2+(1-(lam2*(T[-1]-t))/(N-Nt))**2\n",
    "\n",
    "l=np.linspace(1,T_[-2],200000)\n",
    "u=[ f(t,T_,lam0,lam1) for t in l]\n",
    "plt.plot(l,u)\n",
    "plt.show()"
   ]
  },
  {
   "cell_type": "code",
   "execution_count": 188,
   "metadata": {},
   "outputs": [
    {
     "data": {
      "image/png": "[encoded data removed]",
      "text/plain": [
       "<Figure size 432x288 with 1 Axes>"
      ]
     },
     "metadata": {
      "needs_background": "light"
     },
     "output_type": "display_data"
    }
   ],
   "source": [
    "l=np.linspace(1,T_[-2],200000)\n",
    "u=[ f(t,T_,lam0,lam1) for t in l]\n",
    "plt.plot(l,u)\n",
    "plt.show()"
   ]
  },
  {
   "cell_type": "code",
   "execution_count": 189,
   "metadata": {},
   "outputs": [
    {
     "name": "stdout",
     "output_type": "stream",
     "text": [
      "13.266169622477502\n"
     ]
    }
   ],
   "source": [
    "print(l[np.argmin(u)])"
   ]
  },
  {
   "cell_type": "code",
   "execution_count": 190,
   "metadata": {},
   "outputs": [
    {
     "data": {
      "image/png": "[encoded data removed]",
      "text/plain": [
       "<Figure size 432x288 with 1 Axes>"
      ]
     },
     "metadata": {
      "needs_background": "light"
     },
     "output_type": "display_data"
    },
    {
     "name": "stdout",
     "output_type": "stream",
     "text": [
      "1.2558314026625177\n"
     ]
    }
   ],
   "source": [
    "def f(t,T,lam1,lam2):\n",
    "    Nt=poisson(T, t)\n",
    "    N=len(T)\n",
    "    r1=(lam1*t)/Nt\n",
    "    r2=(lam2*(T[-1]-t))/(N-Nt)\n",
    "    return (1-(lam1*t)/Nt)**2+(1-(lam2*(T[-1]-t))/(N-Nt))**2 \n",
    "l=np.linspace(1,T[-2],20000)\n",
    "u=[ f(t,T,lam0,lam1) for t in l]\n",
    "plt.plot(l,u)\n",
    "plt.show()\n",
    "print(l[np.argmin(u)])"
   ]
  },
  {
   "cell_type": "code",
   "execution_count": 191,
   "metadata": {},
   "outputs": [
    {
     "data": {
      "image/png": "[encoded data removed]",
      "text/plain": [
       "<Figure size 432x288 with 1 Axes>"
      ]
     },
     "metadata": {
      "needs_background": "light"
     },
     "output_type": "display_data"
    },
    {
     "name": "stdout",
     "output_type": "stream",
     "text": [
      "16.41075970436052\n"
     ]
    }
   ],
   "source": [
    "def f(t,T,lam1,lam2):\n",
    "    Nt=poisson(T, t)\n",
    "    N=len(T)\n",
    "    r1=(lam1*t)/Nt\n",
    "    r2=(lam2*(T[-1]-t))/(N-Nt)\n",
    "    alpha=0.11\n",
    "    return   alpha*(np.abs(r1-lam1)**(1)+np.abs(r2-lam2)**(1)) \n",
    "l=np.linspace(1,T[-2],20000)\n",
    "u=[ f(t,T,lam0,lam1) for t in l]\n",
    "plt.plot(l,u)\n",
    "plt.show()\n",
    "print(l[np.argmin(u)])"
   ]
  },
  {
   "cell_type": "code",
   "execution_count": 192,
   "metadata": {},
   "outputs": [
    {
     "name": "stdout",
     "output_type": "stream",
     "text": [
      "21.6580216955374\n"
     ]
    }
   ],
   "source": [
    "print(f(12.764,T,lam0,lam1))"
   ]
  },
  {
   "cell_type": "markdown",
   "metadata": {},
   "source": [
    "## Remarques:\n",
    "\n",
    "- Si $\\lambda_0$ et $\\sigma$ sont très éloignés, alors on n'a pas besoin de beaucoup de points pour estimer $\\tau$."
   ]
  },
  {
   "cell_type": "markdown",
   "metadata": {},
   "source": [
    "## Question 4"
   ]
  },
  {
   "cell_type": "markdown",
   "metadata": {},
   "source": [
    "### Law of large nummbers and scoring goals"
   ]
  },
  {
   "cell_type": "markdown",
   "metadata": {},
   "source": [
    "The idea explored in this part is that the function \"generate_Z_hat\" generates random variables and we have that:"
   ]
  },
  {
   "cell_type": "markdown",
   "metadata": {},
   "source": [
    "\n",
    "$$ \\hat{Z}(t) = \\mathbb{E}[\\mathbb{1}_{ \\tau \\leq t} | \\mathcal{F}_t] $$\n",
    "\n",
    "$$ \\mathbb{E}[\\hat{Z}(t)] = \\mathbb{P}[\\tau \\leq t] $$ "
   ]
  },
  {
   "cell_type": "markdown",
   "metadata": {},
   "source": [
    "A good idea to estimate the expectaty of random variables is to use the law of large numbers. We suppose that we deal with integrable variables. Then we do the Monte-Carlo estimation of this expectation, and we find the time $t$ for which we move from 0 to 1. Why 0 and 1? The fact that the time $\\tau$ is already set before the generation of the $\\hat{Z}(t)$ we get that the event $ \\tau \\leq t$ is either of probability 1 or 0. So we will vary the variable t to see where our limit will become 1."
   ]
  },
  {
   "cell_type": "code",
   "execution_count": 22,
   "metadata": {},
   "outputs": [],
   "source": [
    "def Z_hat(t, Z, T, p):\n",
    "    \n",
    "    # We need to find the T_n such that t is in [T_n, T_{n + 1}]\n",
    "    n = closest(t, T)\n",
    "    z = Z[n, 0]\n",
    "    \n",
    "    # Computing the integral with the method of rectangles\n",
    "    eps =(t - T[n]) / p\n",
    "    for j in range(p - 1):\n",
    "        z += eps * (sigma - (lam1 - lam0) * z) * (1 - z)\n",
    "    return z"
   ]
  },
  {
   "cell_type": "code",
   "execution_count": 59,
   "metadata": {},
   "outputs": [],
   "source": [
    "# The estimator of tau\n",
    "def tau_estimation(t, n, tau, lam0, lam1, sigma, p, N):\n",
    "    \"\"\" N is the number of all points of the Poisson Process with the second intensity\n",
    "        n : the integer in the Monte-Carlo estimation\n",
    "    \"\"\"\n",
    "    z_mean = 0\n",
    "    for i in range(n):\n",
    "        T = point_process(lam0, lam1, tau, N)\n",
    "        Z, U = generate_Z_hat(T, p, sigma, lam0, lam1)\n",
    "        z_mean += Z_hat(t, Z, T, p)\n",
    "    return z_mean / n"
   ]
  },
  {
   "cell_type": "code",
   "execution_count": null,
   "metadata": {},
   "outputs": [],
   "source": [
    "print(tau)"
   ]
  },
  {
   "cell_type": "code",
   "execution_count": null,
   "metadata": {},
   "outputs": [],
   "source": [
    "# Parameters\n",
    "#t = 0.3\n",
    "n = 1000\n",
    "N = 50\n",
    "p = 100\n",
    "\n",
    "# Do we dare ?\n",
    "#res = tau_estimation(t, n , tau, lam0, lam1, sigma, p, N)\n",
    "t = np.linspace(0, 30, 10)\n",
    "\n",
    "values = []\n",
    "for r in t:\n",
    "    result = tau_estimation(r, n, tau, lam0, lam1, sigma, p, N)\n",
    "    values.append(result)\n",
    "plt.figure(figsize=(12, 7))\n",
    "plt.plot(t, values)\n",
    "plt.show()\n",
    "#print(tau_estimation(t, n , tau, lam0, lam1, sigma, p, N))"
   ]
  },
  {
   "cell_type": "code",
   "execution_count": null,
   "metadata": {},
   "outputs": [],
   "source": [
    "# Parameters\n",
    "t = 17\n",
    "n = 1000\n",
    "N = 50\n",
    "p = 100\n",
    "\n",
    "# Do we dare ?\n",
    "res = tau_estimation(t, n , tau, lam0, lam1, sigma, p, N)\n",
    "print(res)"
   ]
  },
  {
   "cell_type": "markdown",
   "metadata": {},
   "source": [
    "### Binary search and the arrival of the public"
   ]
  },
  {
   "cell_type": "markdown",
   "metadata": {},
   "source": [
    "The intuition here is that if we find the intensity if the two halfs of a game. If the public arrive during the first half, the instensity of the second one is greater so we can predict that the arrival happened during the first one. So we can divide our first half again and do the same calculus to see if the arrival was at the first quarter ot the second. Recursively we will be able to find a close window where they arrived. We will define a point process slightly different that doesn't end when we have a certain amount of goals (the variable n in our function \"point_process\") but when we hit the 90th minute. "
   ]
  },
  {
   "cell_type": "code",
   "execution_count": 53,
   "metadata": {},
   "outputs": [],
   "source": [
    "def point_process_90(lam0, lam1, tau):\n",
    "    # T is the jump times process\n",
    "    T = [0]\n",
    "    xi = np.random.exponential(scale = 1 / lam0)\n",
    "    t = xi\n",
    "    while t < tau:\n",
    "        T.append(t)\n",
    "        t += np.random.exponential(scale = 1 / lam0)\n",
    "    t=tau\n",
    "    while t< 90:\n",
    "        t += np.random.exponential(scale = 1 / lam1)\n",
    "        T.append(t)\n",
    "    \n",
    "    return T"
   ]
  },
  {
   "cell_type": "markdown",
   "metadata": {},
   "source": [
    "Thanks to the law of large numbers, we know that as t tends to infinity we have the almost sure convergence $$ \\frac{N_t}{t} \\rightarrow \\lambda.$$We use this formula to infer that if we determine the mean count on different time intervals we can have a estimation of the intensity $\\lambda$. However, through our expirementations we have seen that if we only use one point process realisation it doesn't work very well. The binary searsh was often stuck in intervals with no realizations and the $\\tau$ was happening after for example. So, we decided to generate many point processes with the same $\\tau$ and then compare the mean of their intensities through different intervals to avoid the case scenario with 0 jump in an interval."
   ]
  },
  {
   "cell_type": "code",
   "execution_count": 54,
   "metadata": {},
   "outputs": [],
   "source": [
    "# Parameters\n",
    "lam0 = 0.1\n",
    "lam1 = 100\n",
    "sigma_1 = 1/45\n",
    "tau_1 = np.random.exponential(scale = 1 / sigma_1)\n",
    "n=1000\n",
    "\n",
    "T_90_list = []  # List to store the point processes\n",
    "for i in range(n):\n",
    "    T_90_i = point_process_90(lam0, lam1, tau_1)\n",
    "    T_90_list.append(T_90_i)  \n"
   ]
  },
  {
   "cell_type": "code",
   "execution_count": 90,
   "metadata": {},
   "outputs": [],
   "source": [
    "def point_process_intensity_interval(a, b, T):\n",
    "    \"\"\"\n",
    "    Parameters:\n",
    "        T: List of jump times of the point process.\n",
    "        a: Beginning of the time interval.\n",
    "        b: End time of the time interval.\n",
    "    \"\"\"\n",
    "    count = 0\n",
    "    for i in range(len(T)-1):\n",
    "        if a < T[i] <= b:\n",
    "            count += 1\n",
    "    if b > T[-1]:\n",
    "        count += 1 \n",
    "    mean = count / (b - a)\n",
    "    return mean\n"
   ]
  },
  {
   "cell_type": "code",
   "execution_count": null,
   "metadata": {},
   "outputs": [],
   "source": [
    "epsilon = 20\n",
    "left = 0\n",
    "right = 90\n",
    "\n",
    "while abs(right - left) > epsilon:\n",
    "    mid = (left + right) / 2\n",
    "    intensity1=0\n",
    "    intensity2=0\n",
    "    for i, T_90_i in enumerate(T_90_list):\n",
    "        length = len(T_90_i)  \n",
    "        intensity1 += point_process_intensity_interval(left, mid, T_90_i)\n",
    "        intensity2 += point_process_intensity_interval(mid, right, T_90_i)\n",
    "    intensity1 = intensity1/n\n",
    "    intensity2 = intensity2/n\n",
    "    if intensity1 < intensity2:\n",
    "        right = mid\n",
    "    else:\n",
    "        left = mid\n",
    "    \n",
    "# Final inferred arrival time window\n",
    "arrival_window = (left, right)\n",
    "print(\"Inferred Arrival Time Window:\", arrival_window)\n",
    "print(tau_1)\n"
   ]
  },
  {
   "cell_type": "markdown",
   "metadata": {},
   "source": [
    "Even Though, we have taken the mean intensities of many random processes, it doesn't work very well especially when the epsilon is small. We have results that depends a lot on the choice of parameters lam0, lam1, sigma_1. We deduce that binary searsh is not a very good way to estimate $\\tau$, probably because we have $$ \\frac{N_t}{t} \\rightarrow \\lambda$$ and in our case it's quiete the opposite with the intervalles times getting smaller and smaller."
   ]
  },
  {
   "cell_type": "code",
   "execution_count": null,
   "metadata": {},
   "outputs": [],
   "source": [
    "\n",
    "def cusum_change_point_detection(events, threshold):\n",
    "    n = len(events)\n",
    "    sums = np.zeros(n)\n",
    "    sums[0] = max(0, events[0] - threshold)\n",
    "    \n",
    "    for i in range(1, n):\n",
    "        sums[i] = max(0, sums[i-1] + events[i] - threshold)\n",
    "    \n",
    "    change_point = np.argmax(sums)\n",
    "    \n",
    "    return change_point\n",
    "\n",
    "# Example usage\n",
    "events = [10, 12, 15, 20, 30, 25, 18, 10, 5, 10, 12, 14, 20, 25, 30, 35, 40, 35, 30, 25]\n",
    "threshold = 0\n",
    "plt.scatter(T_90_1, np.ones(len(T_90_1)))\n",
    "plt.show()\n",
    "change_point = cusum_change_point_detection(T_90_1, threshold)\n",
    "print(\"Change point:\", change_point)"
   ]
  },
  {
   "cell_type": "code",
   "execution_count": null,
   "metadata": {},
   "outputs": [],
   "source": []
  },
  {
   "cell_type": "code",
   "execution_count": null,
   "metadata": {},
   "outputs": [],
   "source": []
  },
  {
   "cell_type": "code",
   "execution_count": null,
   "metadata": {},
   "outputs": [],
   "source": []
  },
  {
   "cell_type": "code",
   "execution_count": null,
   "metadata": {},
   "outputs": [],
   "source": []
  },
  {
   "cell_type": "code",
   "execution_count": null,
   "metadata": {},
   "outputs": [],
   "source": []
  }
 ],
 "metadata": {
  "kernelspec": {
   "display_name": "Python 3 (ipykernel)",
   "language": "python",
   "name": "python3"
  },
  "language_info": {
   "codemirror_mode": {
    "name": "ipython",
    "version": 3
   },
   "file_extension": ".py",
   "mimetype": "text/x-python",
   "name": "python",
   "nbconvert_exporter": "python",
   "pygments_lexer": "ipython3",
   "version": "3.8.13"
  }
 },
 "nbformat": 4,
 "nbformat_minor": 4
}
