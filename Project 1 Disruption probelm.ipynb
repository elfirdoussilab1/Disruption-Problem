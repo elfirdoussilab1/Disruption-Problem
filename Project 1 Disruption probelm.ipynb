{
 "cells": [
  {
   "cell_type": "markdown",
   "metadata": {},
   "source": [
    "# Project 1: Disruption problem\n",
    "# Students: Khair Mohamed - El Firdoussi Aymane"
   ]
  },
  {
   "cell_type": "code",
   "execution_count": 84,
   "metadata": {},
   "outputs": [],
   "source": [
    "import numpy as np\n",
    "import matplotlib.pyplot as plt \n",
    "\n",
    "# All imports go here"
   ]
  },
  {
   "cell_type": "markdown",
   "metadata": {},
   "source": [
    "# Question 1:"
   ]
  },
  {
   "cell_type": "markdown",
   "metadata": {},
   "source": [
    "Using the last question in the exercise 2.5.6, we have that the dynamics of $\\hat{Z}$ between two jumps $T_n$ and $T_{n + 1}$, which are also the jumps of the process N, is given by:\n",
    "\n",
    "$$ \\hat{Z}(t) = \\hat{Z}(T_n) + \\int_{T_n}^t (h(s) - (\\lambda_1 - \\lambda_0) \\hat{Z}(s)) (1 - \\hat{Z}(s)) ds $$ \n",
    "\n",
    "$$ \\hat{Z}(T_n) = \\hat{Z}(T_n^-) + \\frac{(\\lambda_1 - \\lambda_0)\\hat{Z}(T_n^-)(1 - \\hat{Z}(T_n^-))}{\\lambda_0 + (\\lambda_1 - \\lambda_0) \\hat{Z}(T_n^-)} $$"
   ]
  },
  {
   "cell_type": "markdown",
   "metadata": {},
   "source": [
    "# Question 2:\n",
    "\n",
    "$$ \\xi_n = T_{n + 1} - T_n $$"
   ]
  },
  {
   "cell_type": "code",
   "execution_count": 9,
   "metadata": {},
   "outputs": [],
   "source": [
    "# Generating a Poisson process of intensity lambda\n",
    "def poisson_process(t, n, lam):\n",
    "    \"\"\"\n",
    "    n: is the total number of jump times to generate\n",
    "    lam : the intensity of the Poisson process\n",
    "    \n",
    "    \"\"\"\n",
    "    # generating the inter-arrivals\n",
    "    xi = np.random.exponential(scale = 1 / lam, size = n)\n",
    "    \n",
    "    # computing the jumpt times\n",
    "    T = np.zeros(n + 1)\n",
    "    T[1] = xi[0]\n",
    "    \n",
    "    for i in range(1, n):\n",
    "        T[i + 1] = T[i] + xi[i]\n",
    "        \n",
    "    # Now that we have the jump times, we compute the value of the Poisson process in t\n",
    "    N = np.sum(T <= t)\n",
    "    \n",
    "    return T, N"
   ]
  },
  {
   "cell_type": "code",
   "execution_count": 15,
   "metadata": {},
   "outputs": [
    {
     "name": "stdout",
     "output_type": "stream",
     "text": [
      "47\n"
     ]
    }
   ],
   "source": [
    "T, N = poisson_process(20, 100, 2)\n",
    "print(N)"
   ]
  },
  {
   "cell_type": "code",
   "execution_count": 20,
   "metadata": {},
   "outputs": [],
   "source": [
    "def point_process(lam0, lam1, tau, n):\n",
    "    # T is the jump times process\n",
    "    T = [0]\n",
    "    xi = np.random.exponential(scale = 1 / lam0)\n",
    "    t = xi\n",
    "    while t < tau:\n",
    "        T.append(t)\n",
    "        t += np.random.exponential(scale = 1 / lam0)\n",
    "    \n",
    "    t = tau\n",
    "    for i in range(n):\n",
    "        t += np.random.exponential(scale = 1 / lam1)\n",
    "        T.append(t)\n",
    "    \n",
    "    return T"
   ]
  },
  {
   "cell_type": "code",
   "execution_count": 21,
   "metadata": {},
   "outputs": [],
   "source": [
    "def poisson(T, t):\n",
    "    return np.sum(np.array(T) <= t)\n"
   ]
  },
  {
   "cell_type": "markdown",
   "metadata": {},
   "source": [
    "### Plotting a sample point process"
   ]
  },
  {
   "cell_type": "code",
   "execution_count": 27,
   "metadata": {},
   "outputs": [
    {
     "data": {
      "image/png": "[encoded data removed]",
      "text/plain": [
       "<Figure size 432x288 with 1 Axes>"
      ]
     },
     "metadata": {
      "needs_background": "light"
     },
     "output_type": "display_data"
    }
   ],
   "source": [
    "# Parameters\n",
    "lam0 = 1\n",
    "lam1 = 2\n",
    "n = 20\n",
    "tau = 10\n",
    "\n",
    "T = point_process(lam0, lam1, tau, n)\n",
    "# Plotting\n",
    "plt.scatter(T, np.ones(len(T)))\n",
    "plt.show()"
   ]
  },
  {
   "cell_type": "markdown",
   "metadata": {},
   "source": [
    "## Plotting a sample path of the Poisson process N"
   ]
  },
  {
   "cell_type": "code",
   "execution_count": 29,
   "metadata": {},
   "outputs": [
    {
     "data": {
      "image/png": "[encoded data removed]",
      "text/plain": [
       "<Figure size 432x288 with 1 Axes>"
      ]
     },
     "metadata": {
      "needs_background": "light"
     },
     "output_type": "display_data"
    }
   ],
   "source": [
    "# Parameters\n",
    "lam0 = 1\n",
    "lam1 = 2\n",
    "n = 20\n",
    "tau = 10\n",
    "\n",
    "# Plotting\n",
    "T = point_process(lam0, lam1, tau, n)\n",
    "t = np.linspace(0, 20, len(T))\n",
    "N = []\n",
    "for x in t:\n",
    "    N.append(poisson(T, x))\n",
    "plt.plot(t, N)\n",
    "plt.grid()\n",
    "plt.show()"
   ]
  },
  {
   "cell_type": "markdown",
   "metadata": {},
   "source": [
    "## Simulating a sample trajectory of Z"
   ]
  },
  {
   "cell_type": "code",
   "execution_count": 92,
   "metadata": {},
   "outputs": [],
   "source": [
    "def Z_hat(T, p, lam, lam1, lam0):\n",
    "    n = len(T)\n",
    "    Z = np.zeros((n - 1, p))\n",
    "    U = []\n",
    "    \n",
    "    # Initializastion: row 0\n",
    "    h =(T[1] - T[0]) / p\n",
    "    u = T[0]\n",
    "    U.append(u)\n",
    "    for j in range(p - 1):\n",
    "        Z[0, j + 1] = Z[0, j] + h * (lam - (lam1 - lam0) * Z[0, j]) * (1 - Z[0, j])\n",
    "        u += h\n",
    "        U.append(u)\n",
    "        \n",
    "    # parcourir les lignes [T_i, T_{i + 1}[\n",
    "    for i in range(1, n - 1):\n",
    "        h =(T[i + 1] - T[i]) / p\n",
    "        u = T[i]\n",
    "        U.append(u)\n",
    "        # computing the initial value with the transition expression (jump size)\n",
    "        Z[i, 0] = Z[i - 1, p - 1] + ((lam1 - lam0) * Z[i - 1, p - 1] * (1 - Z[i - 1, p - 1])) / (lam0 + (lam1 - lam0) * Z[i - 1, p - 1])\n",
    "        \n",
    "        # computing Z[i, j]\n",
    "        for j in range(p - 1):\n",
    "            Z[i, j + 1] = Z[i, j] + h * (lam - (lam1 - lam0) * Z[i, j]) * (1 - Z[i, j])\n",
    "            u += h\n",
    "            U.append(u)\n",
    "        \n",
    "    return Z, U"
   ]
  },
  {
   "cell_type": "markdown",
   "metadata": {},
   "source": [
    "## Plotting results"
   ]
  },
  {
   "cell_type": "code",
   "execution_count": 109,
   "metadata": {},
   "outputs": [],
   "source": [
    "# Parameters\n",
    "p = 50\n",
    "lam0 = 1\n",
    "lam1 = 2\n",
    "lam = 1\n",
    "tau = np.random.exponential(scale = 1 / lam)\n",
    "\n",
    "# Simulating T and Z\n",
    "T = point_process(lam0, lam1, tau, 20)\n",
    "Z, U = Z_hat(T, p, lam, lam1, lam0)\n"
   ]
  },
  {
   "cell_type": "code",
   "execution_count": 110,
   "metadata": {},
   "outputs": [
    {
     "data": {
      "image/png": "[encoded data removed]",
      "text/plain": [
       "<Figure size 1080x504 with 1 Axes>"
      ]
     },
     "metadata": {
      "needs_background": "light"
     },
     "output_type": "display_data"
    }
   ],
   "source": [
    "plt.figure(figsize = (15, 7))\n",
    "Z_flat = Z.reshape(1, -1)[0]\n",
    "plt.plot(U, Z_flat)\n",
    "plt.show()"
   ]
  },
  {
   "cell_type": "code",
   "execution_count": 111,
   "metadata": {},
   "outputs": [
    {
     "name": "stdout",
     "output_type": "stream",
     "text": [
      "0.2191539015384723\n"
     ]
    }
   ],
   "source": [
    "print(tau)"
   ]
  },
  {
   "cell_type": "code",
   "execution_count": null,
   "metadata": {},
   "outputs": [],
   "source": []
  }
 ],
 "metadata": {
  "kernelspec": {
   "display_name": "Python 3 (ipykernel)",
   "language": "python",
   "name": "python3"
  },
  "language_info": {
   "codemirror_mode": {
    "name": "ipython",
    "version": 3
   },
   "file_extension": ".py",
   "mimetype": "text/x-python",
   "name": "python",
   "nbconvert_exporter": "python",
   "pygments_lexer": "ipython3",
   "version": "3.8.13"
  }
 },
 "nbformat": 4,
 "nbformat_minor": 2
}
